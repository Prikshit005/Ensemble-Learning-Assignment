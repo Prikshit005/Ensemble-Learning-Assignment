{
  "nbformat": 4,
  "nbformat_minor": 0,
  "metadata": {
    "colab": {
      "provenance": []
    },
    "kernelspec": {
      "name": "python3",
      "display_name": "Python 3"
    },
    "language_info": {
      "name": "python"
    }
  },
  "cells": [
    {
      "cell_type": "markdown",
      "source": [
        "#E**nsemble Learning**"
      ],
      "metadata": {
        "id": "nn5zxi3wOTQo"
      }
    },
    {
      "cell_type": "markdown",
      "source": [
        "**1. Can we use Bagging for regression problems?**\n",
        "- Yes, bagging can be used for regression problems. Bagging, which stands for bootstrap aggregating, is an ensemble technique that builds multiple models using different random subsets of the training data and then combines their outputs to make a final prediction. In regression, instead of voting like in classification, the predictions from all the models are averaged to get the final output. This approach helps to reduce variance and improve the stability and accuracy of the model, especially when using algorithms like decision trees that tend to overfit. A popular example is the Random Forest Regressor, which applies bagging to decision trees for regression tasks.\n"
      ],
      "metadata": {
        "id": "V_w6c1VgOcQJ"
      }
    },
    {
      "cell_type": "markdown",
      "source": [
        "**2. What is the difference between multiple model training and single model training?**\n",
        "- The difference between multiple model training and single model training is that single model training uses just one model to learn from the data and make predictions, while multiple model training involves building several models and combining their results. Single model training is simpler and faster but might not always give the best accuracy, especially if the model overfits or underfits. On the other hand, multiple model training, often used in ensemble methods like bagging or boosting, helps improve performance by reducing errors and making the predictions more reliable through the combination of many models.\n"
      ],
      "metadata": {
        "id": "JMhvkvPtO-I9"
      }
    },
    {
      "cell_type": "markdown",
      "source": [
        "**3. Explain the concept of feature randomness in Random Forest?**\n",
        "- Feature randomness in a **Random Forest** refers to the process of selecting a random subset of features (columns) when splitting each node in a decision tree. Instead of considering all features to find the best split (like in standard decision trees), Random Forest randomly chooses a smaller number of features at each split and picks the best one among them.\n",
        "This randomness helps make each tree in the forest different from others, even if they are trained on the same data. As a result, the overall model becomes more diverse and less likely to overfit. This feature randomness, along with data randomness (bootstrap sampling), is what gives Random Forest its strength and stability.\n"
      ],
      "metadata": {
        "id": "pWubZD07Pgj7"
      }
    },
    {
      "cell_type": "markdown",
      "source": [
        "**4. What is OOB (Out-of-Bag) Score?**\n",
        "- The **OOB (Out-of-Bag) Score** is a way to evaluate the performance of a **Random Forest** model without needing a separate validation set. In Random Forest, each tree is trained on a random subset of the data (called a bootstrap sample), which means some data points are left out of that sample. These left-out points are called **out-of-bag samples**.\n",
        "The OOB score is calculated by using these out-of-bag samples to test the model. Each data point is predicted using only the trees that did not see it during training. The model's performance on these OOB predictions gives an estimate of its accuracy. This method is efficient and helps avoid overfitting since it uses data not seen by individual trees for evaluation.\n"
      ],
      "metadata": {
        "id": "rYihezd3PtPr"
      }
    },
    {
      "cell_type": "markdown",
      "source": [
        "**5. How can you measure the importance of features in a Random Forest model?**\n",
        "- In a Random Forest model, feature importance shows how useful each feature is in making predictions. One common way to measure it is by checking how much each feature helps reduce impurity (like Gini or Entropy) when the trees in the forest split the data. Features that often lead to better splits are considered more important. Another method is to randomly shuffle a feature's values and see how much the model’s accuracy drops—if performance gets worse, the feature was important. Most libraries like scikit-learn also provide a built-in way to get feature importance scores directly from the trained model.\n"
      ],
      "metadata": {
        "id": "VEFVJj7BP4qn"
      }
    },
    {
      "cell_type": "markdown",
      "source": [
        "**6. Explain the working principle of a Bagging Classifier?**\n",
        "- A Bagging Classifier works by training multiple models (usually of the same type, like decision trees) on different random subsets of the training data. These subsets are created using a technique called bootstrapping, which means selecting samples randomly with replacement. Each model learns from its own subset and makes predictions. For classification tasks, the final prediction is made by majority voting, where the class chosen by most models becomes the final result. This approach helps reduce overfitting and improves accuracy by combining the strengths of many models instead of relying on just one.\n"
      ],
      "metadata": {
        "id": "9TwNaZJIQHcY"
      }
    },
    {
      "cell_type": "markdown",
      "source": [
        "**7. How do you evaluate a Bagging Classifier’s performance?**\n",
        "- To evaluate a Bagging Classifier’s performance, we usually check how accurate its predictions are by comparing them to the true labels using metrics like accuracy, precision, recall, or F1-score. We can also look at a confusion matrix to see where the model makes mistakes. Another useful way is the Out-of-Bag (OOB) score, which tests the model on data points that were not used to train each individual tree, giving a quick and reliable estimate of how well the model will perform on new data. These methods help us to understand how good and reliable the Bagging Classifier is.\n"
      ],
      "metadata": {
        "id": "kpkOeI4xReoE"
      }
    },
    {
      "cell_type": "markdown",
      "source": [
        "**8. How does a Bagging Regressor work?**\n",
        "- A Bagging Regressor works by creating multiple versions of a regression model, each trained on a different random sample of the training data (called bootstrap samples). Each model makes its own prediction for a given input, and then the final output is calculated by averaging all these predictions. This process helps reduce errors and makes the overall prediction more stable and accurate because it combines the strengths of many models instead of relying on just one.\n"
      ],
      "metadata": {
        "id": "EWKni92PRq0f"
      }
    },
    {
      "cell_type": "markdown",
      "source": [
        "**9. What is the main advantage of ensemble techniques?**\n",
        "- The main advantage of ensemble techniques is that they combine multiple models to make better predictions than any single model alone. By bringing together different models, ensembles reduce errors like overfitting and improve accuracy, stability, and robustness. This way, they often perform more reliably on new, unseen data.\n"
      ],
      "metadata": {
        "id": "eG8Oke4HR0sN"
      }
    },
    {
      "cell_type": "markdown",
      "source": [
        "**10. What is the main challenge of ensemble methods?**\n",
        "- The main challenge of ensemble methods is that they can be more complex and slower to train and predict compared to single models. Because they combine many models, they require more computational resources and time. Also, interpreting the results can be harder since the decision comes from multiple models working together, making the model less transparent.\n"
      ],
      "metadata": {
        "id": "sQ_fxBCKR82E"
      }
    },
    {
      "cell_type": "markdown",
      "source": [
        "**11. Explain the key idea behind ensemble techniques?**\n",
        "- The key idea behind ensemble techniques is to combine several different models to make better predictions than any single model could on its own. Instead of relying on just one model, ensembles gather the strengths of many models, which helps reduce mistakes and makes the overall prediction more accurate and reliable. This teamwork approach makes it easier to handle complex problems and improves the chances of getting the right answer.\n"
      ],
      "metadata": {
        "id": "lxfQdVgCSGp7"
      }
    },
    {
      "cell_type": "markdown",
      "source": [
        "**12. What is a Random Forest Classifier?**\n",
        "- A Random Forest Classifier is an ensemble learning method that builds many decision trees using random subsets of the data and features. Each tree makes its own prediction, and the forest combines these predictions by majority voting to decide the final class. This approach helps improve accuracy and reduces overfitting compared to using a single decision tree.\n"
      ],
      "metadata": {
        "id": "6tHRWL1gSQ-b"
      }
    },
    {
      "cell_type": "markdown",
      "source": [
        "**13. What are the main types of ensemble techniques?**\n",
        "- The main types of ensemble techniques are **bagging**, **boosting**, and **stacking**. Bagging builds many models independently on random parts of the data and combines their results by voting or averaging to reduce errors. Boosting trains models one after another, where each new model focuses on fixing the mistakes of the previous ones, improving overall accuracy. Stacking combines different types of models by training a final model to learn the best way to mix their predictions. All these methods help make better and more reliable predictions than using just one model.\n"
      ],
      "metadata": {
        "id": "QVXqnYzaSYqD"
      }
    },
    {
      "cell_type": "markdown",
      "source": [
        "**14. What is ensemble learning in machine learning?**\n",
        "- Ensemble learning in machine learning is a technique where multiple models are combined to solve a problem and make better predictions than any single model alone. By working together, these models can reduce errors, improve accuracy, and make the overall system more reliable and stable. It’s like getting advice from a group instead of just one expert to make smarter decisions.\n"
      ],
      "metadata": {
        "id": "5Z6S0zFUSnm3"
      }
    },
    {
      "cell_type": "markdown",
      "source": [
        "**15. When should we avoid using ensemble methods?**\n",
        "- We should avoid using ensemble methods when the problem requires a simple, fast, and easy-to-understand model, especially if the dataset is small or the added complexity doesn’t significantly improve performance. Ensembles can be slow to train and predict, use more resources, and are harder to interpret, so for tasks where explainability or quick results matter more than a slight boost in accuracy, simpler models might be better.\n"
      ],
      "metadata": {
        "id": "JoSB1b1WSve1"
      }
    },
    {
      "cell_type": "markdown",
      "source": [
        "**16. How does Bagging help in reducing overfitting?**\n",
        "- Bagging helps reduce overfitting by training multiple models on different random subsets of the training data and then combining their predictions. Because each model sees a slightly different version of the data, they make different errors. When their predictions are averaged or voted on, these errors tend to cancel out, making the final result more stable and less likely to fit the noise in the training data. This way, bagging reduces the chance of the model memorizing the training data and improves its ability to generalize to new data.\n"
      ],
      "metadata": {
        "id": "0QRlo9IsS4Wg"
      }
    },
    {
      "cell_type": "markdown",
      "source": [
        "**17. Why is Random Forest better than a single Decision Tree?**\n",
        "- Random Forest is better than a single Decision Tree because it builds many trees using random subsets of the data and features, then combines their predictions. This process reduces the risk of overfitting, which is common in single trees that can become too complex and fit noise in the training data. By averaging many trees, Random Forest produces more accurate, stable, and reliable predictions that generalize better to new data.\n"
      ],
      "metadata": {
        "id": "yfYP9y7fTC8N"
      }
    },
    {
      "cell_type": "markdown",
      "source": [
        "**18. What is the role of bootstrap sampling in Bagging?**\n",
        "- The role of bootstrap sampling in Bagging is to create multiple different training datasets by randomly selecting samples **with replacement** from the original data. Each new dataset is used to train a separate model. This randomness helps make the models diverse because each one sees a slightly different set of data. Combining these diverse models reduces overfitting and improves the overall accuracy and stability of the final prediction.\n"
      ],
      "metadata": {
        "id": "EZyo4LpjTLQd"
      }
    },
    {
      "cell_type": "markdown",
      "source": [
        "**19. What are some real-world applications of ensemble techniques?**\n",
        "- Ensemble techniques are widely used in real-world applications because they make predictions more accurate and reliable. For example, they are used in finance for credit scoring and fraud detection, helping banks decide who gets a loan or spotting suspicious transactions. In healthcare, ensembles help diagnose diseases by analyzing medical data. They are also used in email spam detection, recommendation systems like those on Netflix or Amazon, and in self-driving cars to improve decision-making. By combining many models, ensembles handle complex problems better than single models.\n"
      ],
      "metadata": {
        "id": "pNT1vY4lTTrY"
      }
    },
    {
      "cell_type": "markdown",
      "source": [
        "**20. What is the difference between Bagging and Boosting?**\n",
        "- The main difference between Bagging and Boosting is how they build and combine models. **Bagging** trains many models independently on random samples of the data (with replacement) and then combines their results by voting or averaging. This helps reduce variance and prevents overfitting. In contrast, **Boosting** builds models sequentially, where each new model focuses on correcting the mistakes of the previous ones. Boosting combines models by giving more weight to harder-to-predict examples, which helps reduce bias and improve accuracy but can sometimes lead to overfitting if not carefully controlled.\n"
      ],
      "metadata": {
        "id": "bhxZ0Lt5Tk0P"
      }
    },
    {
      "cell_type": "markdown",
      "source": [
        "# **Practical**"
      ],
      "metadata": {
        "id": "VGh8JbWjTwAF"
      }
    },
    {
      "cell_type": "markdown",
      "source": [
        "**21. Train a Bagging Classifier using Decision Trees on a sample dataset and print model accuracy.**"
      ],
      "metadata": {
        "id": "JoGB9ZMzT2OU"
      }
    },
    {
      "cell_type": "code",
      "source": [
        "from sklearn.datasets import load_iris\n",
        "from sklearn.model_selection import train_test_split\n",
        "from sklearn.tree import DecisionTreeClassifier\n",
        "from sklearn.ensemble import BaggingClassifier\n",
        "from sklearn.metrics import accuracy_score\n",
        "\n",
        "iris = load_iris()\n",
        "X, y = iris.data, iris.target\n",
        "\n",
        "X_train, X_test, y_train, y_test = train_test_split(X, y, test_size=0.3, random_state=42)\n",
        "\n",
        "dt = DecisionTreeClassifier()\n",
        "\n",
        "bagging = BaggingClassifier(estimator=dt, n_estimators=50, random_state=42)\n",
        "\n",
        "bagging.fit(X_train, y_train)\n",
        "\n",
        "bagging.fit(X_train, y_train)\n",
        "\n",
        "y_pred = bagging.predict(X_test)\n",
        "\n",
        "accuracy = accuracy_score(y_test, y_pred)\n",
        "print(f\"Bagging Classifier Accuracy: {accuracy:.4f}\")\n",
        "Bagging Classifier Accuracy: 1.0000\n",
        "Colab paid products - Cancel contracts here\n",
        "\n",
        "Please explain this error:\n",
        "\n",
        "y_pred = bagging.predict(X_test)\n",
        "\n",
        "accuracy = accuracy_score(y_test, y_pred)\n",
        "print(f\"Bagging Classifier Accuracy: {accuracy:.4f}\")"
      ],
      "metadata": {
        "colab": {
          "base_uri": "https://localhost:8080/"
        },
        "id": "HCe4HhDCUhbl",
        "outputId": "538637ae-59b4-4f12-aefd-d3e49acedb41"
      },
      "execution_count": 2,
      "outputs": [
        {
          "output_type": "stream",
          "name": "stdout",
          "text": [
            "Bagging Classifier Accuracy: 1.0000\n"
          ]
        }
      ]
    },
    {
      "cell_type": "markdown",
      "source": [
        "**22. Train a Bagging Regressor using Decision Trees and evaluate using Mean Squared Error (MSE).**"
      ],
      "metadata": {
        "id": "BM3UQEpXU4Lf"
      }
    },
    {
      "cell_type": "code",
      "source": [
        "from sklearn.model_selection import train_test_split\n",
        "from sklearn.tree import DecisionTreeRegressor\n",
        "from sklearn.ensemble import BaggingRegressor\n",
        "from sklearn.metrics import mean_squared_error\n",
        "from sklearn.datasets import fetch_california_housing\n",
        "\n",
        "data = fetch_california_housing()\n",
        "X, y = data.data, data.target\n",
        "\n",
        "X_train, X_test, y_train, y_test = train_test_split(X, y, test_size=0.3, random_state=42)\n",
        "\n",
        "dt = DecisionTreeRegressor(random_state=42)\n",
        "\n",
        "bagging = BaggingRegressor(estimator=dt, n_estimators=50, random_state=42)\n",
        "\n",
        "bagging.fit(X_train, y_train)\n",
        "\n",
        "y_pred = bagging.predict(X_test)\n",
        "\n",
        "mse = mean_squared_error(y_test, y_pred)\n",
        "print(f\"Bagging Regressor Mean Squared Error: {mse:.4f}\")"
      ],
      "metadata": {
        "colab": {
          "base_uri": "https://localhost:8080/"
        },
        "id": "51XZLthPU8rF",
        "outputId": "7f78e382-b394-4f6d-8cce-47a96b656a40"
      },
      "execution_count": 4,
      "outputs": [
        {
          "output_type": "stream",
          "name": "stdout",
          "text": [
            "Bagging Regressor Mean Squared Error: 0.2579\n"
          ]
        }
      ]
    },
    {
      "cell_type": "markdown",
      "source": [
        "**23. Train a Random Forest Classifier on the Breast Cancer dataset and print feature importance scores.**"
      ],
      "metadata": {
        "id": "ja5FcQYsVXGa"
      }
    },
    {
      "cell_type": "code",
      "source": [
        "from sklearn.datasets import load_breast_cancer\n",
        "from sklearn.model_selection import train_test_split\n",
        "from sklearn.ensemble import RandomForestClassifier\n",
        "import pandas as pd\n",
        "\n",
        "data = load_breast_cancer()\n",
        "X, y = data.data, data.target\n",
        "feature_names = data.feature_names\n",
        "\n",
        "X_train, X_test, y_train, y_test = train_test_split(X, y, test_size=0.3, random_state=42)\n",
        "\n",
        "rf = RandomForestClassifier(random_state=42)\n",
        "rf.fit(X_train, y_train)\n",
        "\n",
        "importances = rf.feature_importances_\n",
        "\n",
        "feature_importance_df = pd.DataFrame({'Feature': feature_names, 'Importance': importances})\n",
        "feature_importance_df = feature_importance_df.sort_values(by='Importance', ascending=False)\n",
        "\n",
        "print(\"Feature Importances:\")\n",
        "print(feature_importance_df)\n"
      ],
      "metadata": {
        "colab": {
          "base_uri": "https://localhost:8080/"
        },
        "id": "5M4ryNojVbhG",
        "outputId": "f19dcb02-b786-49c4-a343-fccbe6b5aa90"
      },
      "execution_count": 5,
      "outputs": [
        {
          "output_type": "stream",
          "name": "stdout",
          "text": [
            "Feature Importances:\n",
            "                    Feature  Importance\n",
            "7       mean concave points    0.141934\n",
            "27     worst concave points    0.127136\n",
            "23               worst area    0.118217\n",
            "6            mean concavity    0.080557\n",
            "20             worst radius    0.077975\n",
            "22          worst perimeter    0.074292\n",
            "2            mean perimeter    0.060092\n",
            "3                 mean area    0.053810\n",
            "26          worst concavity    0.041080\n",
            "0               mean radius    0.032312\n",
            "13               area error    0.029538\n",
            "21            worst texture    0.018786\n",
            "25        worst compactness    0.017539\n",
            "10             radius error    0.016435\n",
            "28           worst symmetry    0.012929\n",
            "12          perimeter error    0.011770\n",
            "24         worst smoothness    0.011769\n",
            "1              mean texture    0.011064\n",
            "5          mean compactness    0.009216\n",
            "19  fractal dimension error    0.007135\n",
            "29  worst fractal dimension    0.006924\n",
            "4           mean smoothness    0.006223\n",
            "14         smoothness error    0.005881\n",
            "16          concavity error    0.005816\n",
            "15        compactness error    0.004596\n",
            "18           symmetry error    0.004001\n",
            "17     concave points error    0.003382\n",
            "8             mean symmetry    0.003278\n",
            "11            texture error    0.003172\n",
            "9    mean fractal dimension    0.003140\n"
          ]
        }
      ]
    },
    {
      "cell_type": "markdown",
      "source": [
        "**24. Train a Random Forest Regressor and compare its performance with a single Decision Tree.**"
      ],
      "metadata": {
        "id": "xk6GSoP-VlVU"
      }
    },
    {
      "cell_type": "code",
      "source": [
        "from sklearn.datasets import fetch_california_housing\n",
        "from sklearn.model_selection import train_test_split\n",
        "from sklearn.tree import DecisionTreeRegressor\n",
        "from sklearn.ensemble import RandomForestRegressor\n",
        "from sklearn.metrics import mean_squared_error\n",
        "\n",
        "data = fetch_california_housing()\n",
        "X, y = data.data, data.target\n",
        "\n",
        "X_train, X_test, y_train, y_test = train_test_split(X, y, test_size=0.3, random_state=42)\n",
        "\n",
        "dt = DecisionTreeRegressor(random_state=42)\n",
        "dt.fit(X_train, y_train)\n",
        "y_pred_dt = dt.predict(X_test)\n",
        "mse_dt = mean_squared_error(y_test, y_pred_dt)\n",
        "\n",
        "rf = RandomForestRegressor(n_estimators=100, random_state=42)\n",
        "rf.fit(X_train, y_train)\n",
        "y_pred_rf = rf.predict(X_test)\n",
        "mse_rf = mean_squared_error(y_test, y_pred_rf)\n",
        "\n",
        "print(f\"Decision Tree Regressor MSE: {mse_dt:.4f}\")\n",
        "print(f\"Random Forest Regressor MSE: {mse_rf:.4f}\")\n"
      ],
      "metadata": {
        "colab": {
          "base_uri": "https://localhost:8080/"
        },
        "id": "Cb4Yk5tdVp_G",
        "outputId": "c53a6829-3a13-4ee7-d37b-446019ea5a7d"
      },
      "execution_count": 6,
      "outputs": [
        {
          "output_type": "stream",
          "name": "stdout",
          "text": [
            "Decision Tree Regressor MSE: 0.5280\n",
            "Random Forest Regressor MSE: 0.2565\n"
          ]
        }
      ]
    },
    {
      "cell_type": "markdown",
      "source": [
        "**25. Compute the Out-of-Bag (OOB) Score for a Random Forest Classifier.**"
      ],
      "metadata": {
        "id": "_kom1mEtV-Gl"
      }
    },
    {
      "cell_type": "code",
      "source": [
        "from sklearn.datasets import load_breast_cancer\n",
        "from sklearn.ensemble import RandomForestClassifier\n",
        "from sklearn.model_selection import train_test_split\n",
        "\n",
        "data = load_breast_cancer()\n",
        "X, y = data.data, data.target\n",
        "\n",
        "X_train, X_test, y_train, y_test = train_test_split(X, y, test_size=0.3, random_state=42)\n",
        "\n",
        "rf = RandomForestClassifier(n_estimators=100, oob_score=True, random_state=42)\n",
        "\n",
        "rf.fit(X_train, y_train)\n",
        "\n",
        "print(f\"OOB Score: {rf.oob_score_:.4f}\")\n"
      ],
      "metadata": {
        "colab": {
          "base_uri": "https://localhost:8080/"
        },
        "id": "bPyDMhGnWD8K",
        "outputId": "ade313e1-53fd-4285-d4d0-fe0e323dc9f1"
      },
      "execution_count": 7,
      "outputs": [
        {
          "output_type": "stream",
          "name": "stdout",
          "text": [
            "OOB Score: 0.9548\n"
          ]
        }
      ]
    },
    {
      "cell_type": "markdown",
      "source": [
        "**26. Train a Bagging Classifier using SVM as a base estimator and print accuracy.**"
      ],
      "metadata": {
        "id": "kN8GF6uZWKpJ"
      }
    },
    {
      "cell_type": "code",
      "source": [
        "from sklearn.datasets import load_iris\n",
        "from sklearn.model_selection import train_test_split\n",
        "from sklearn.svm import SVC\n",
        "from sklearn.ensemble import BaggingClassifier\n",
        "from sklearn.metrics import accuracy_score\n",
        "\n",
        "iris = load_iris()\n",
        "X, y = iris.data, iris.target\n",
        "\n",
        "X_train, X_test, y_train, y_test = train_test_split(X, y, test_size=0.3, random_state=42)\n",
        "\n",
        "svm = SVC(kernel='linear', probability=False, random_state=42)\n",
        "\n",
        "bagging = BaggingClassifier(estimator=svm, n_estimators=20, random_state=42)\n",
        "\n",
        "bagging.fit(X_train, y_train)\n",
        "\n",
        "y_pred = bagging.predict(X_test)\n",
        "\n",
        "accuracy = accuracy_score(y_test, y_pred)\n",
        "print(f\"Bagging Classifier Accuracy with SVM: {accuracy:.4f}\")"
      ],
      "metadata": {
        "colab": {
          "base_uri": "https://localhost:8080/"
        },
        "id": "Es-GcP-gWOjs",
        "outputId": "423f8107-9b75-4722-d7c3-699ce4b837fb"
      },
      "execution_count": 9,
      "outputs": [
        {
          "output_type": "stream",
          "name": "stdout",
          "text": [
            "Bagging Classifier Accuracy with SVM: 1.0000\n"
          ]
        }
      ]
    },
    {
      "cell_type": "markdown",
      "source": [
        "**27. Train a Random Forest Classifier with different numbers of trees and compare accuracy.**"
      ],
      "metadata": {
        "id": "044rAcaTWcDI"
      }
    },
    {
      "cell_type": "code",
      "source": [
        "from sklearn.datasets import load_breast_cancer\n",
        "from sklearn.ensemble import RandomForestClassifier\n",
        "from sklearn.model_selection import train_test_split\n",
        "from sklearn.metrics import accuracy_score\n",
        "data = load_breast_cancer()\n",
        "X, y = data.data, data.target\n",
        "\n",
        "X_train, X_test, y_train, y_test = train_test_split(X, y, test_size=0.3, random_state=42)\n",
        "\n",
        "n_trees_list = [5, 10, 50, 100, 200]\n",
        "\n",
        "print(\"Random Forest Classifier Accuracy with Different Numbers of Trees:\")\n",
        "for n_trees in n_trees_list:\n",
        "    rf = RandomForestClassifier(n_estimators=n_trees, random_state=42)\n",
        "    rf.fit(X_train, y_train)\n",
        "    y_pred = rf.predict(X_test)\n",
        "    accuracy = accuracy_score(y_test, y_pred)\n",
        "    print(f\" - Trees: {n_trees} | Accuracy: {accuracy:.4f}\")\n"
      ],
      "metadata": {
        "colab": {
          "base_uri": "https://localhost:8080/"
        },
        "id": "meIN3GedWgOe",
        "outputId": "0cfcdf1c-3ec6-4596-b051-4a451ca32ca4"
      },
      "execution_count": 10,
      "outputs": [
        {
          "output_type": "stream",
          "name": "stdout",
          "text": [
            "Random Forest Classifier Accuracy with Different Numbers of Trees:\n",
            " - Trees: 5 | Accuracy: 0.9649\n",
            " - Trees: 10 | Accuracy: 0.9649\n",
            " - Trees: 50 | Accuracy: 0.9708\n",
            " - Trees: 100 | Accuracy: 0.9708\n",
            " - Trees: 200 | Accuracy: 0.9708\n"
          ]
        }
      ]
    },
    {
      "cell_type": "markdown",
      "source": [
        "**28. Train a Bagging Classifier using Logistic Regression as a base estimator and print AUC score.**"
      ],
      "metadata": {
        "id": "gydPknGaWnxy"
      }
    },
    {
      "cell_type": "code",
      "source": [
        "from sklearn.datasets import load_breast_cancer\n",
        "from sklearn.ensemble import BaggingClassifier\n",
        "from sklearn.linear_model import LogisticRegression\n",
        "from sklearn.model_selection import train_test_split\n",
        "from sklearn.metrics import roc_auc_score\n",
        "\n",
        "data = load_breast_cancer()\n",
        "X, y = data.data, data.target\n",
        "\n",
        "X_train, X_test, y_train, y_test = train_test_split(X, y, test_size=0.3, random_state=42)\n",
        "\n",
        "logreg = LogisticRegression(max_iter=5000, random_state=42)\n",
        "\n",
        "bagging = BaggingClassifier(estimator=logreg, n_estimators=50, random_state=42)\n",
        "\n",
        "bagging.fit(X_train, y_train)\n",
        "\n",
        "y_probs = bagging.predict_proba(X_test)[:, 1]\n",
        "\n",
        "auc = roc_auc_score(y_test, y_probs)\n",
        "print(f\"Bagging Classifier with Logistic Regression AUC Score: {auc:.4f}\")"
      ],
      "metadata": {
        "colab": {
          "base_uri": "https://localhost:8080/"
        },
        "id": "zXDi7O3EXA19",
        "outputId": "82af02a3-1d7e-422f-b2b2-347b8cfacb57"
      },
      "execution_count": 17,
      "outputs": [
        {
          "output_type": "stream",
          "name": "stdout",
          "text": [
            "Bagging Classifier with Logistic Regression AUC Score: 0.9979\n"
          ]
        }
      ]
    },
    {
      "cell_type": "markdown",
      "source": [
        "**29. Train a Random Forest Regressor and analyze feature importance scores.**"
      ],
      "metadata": {
        "id": "fc_JCtPyYEiF"
      }
    },
    {
      "cell_type": "code",
      "source": [
        "from sklearn.datasets import fetch_california_housing\n",
        "from sklearn.ensemble import RandomForestRegressor\n",
        "from sklearn.model_selection import train_test_split\n",
        "import pandas as pd\n",
        "\n",
        "data = fetch_california_housing()\n",
        "X, y = data.data, data.target\n",
        "feature_names = data.feature_names\n",
        "\n",
        "X_train, X_test, y_train, y_test = train_test_split(X, y, test_size=0.3, random_state=42)\n",
        "\n",
        "rf = RandomForestRegressor(n_estimators=100, random_state=42)\n",
        "rf.fit(X_train, y_train)\n",
        "\n",
        "importances = rf.feature_importances_\n",
        "\n",
        "feature_importance_df = pd.DataFrame({'Feature': feature_names, 'Importance': importances})\n",
        "feature_importance_df = feature_importance_df.sort_values(by='Importance', ascending=False)\n",
        "\n",
        "print(\"Feature Importance Scores:\")\n",
        "print(feature_importance_df)\n"
      ],
      "metadata": {
        "colab": {
          "base_uri": "https://localhost:8080/"
        },
        "id": "tckiMPqEYINx",
        "outputId": "7517c8f1-fd47-4989-f1ac-a9f23a869093"
      },
      "execution_count": 18,
      "outputs": [
        {
          "output_type": "stream",
          "name": "stdout",
          "text": [
            "Feature Importance Scores:\n",
            "      Feature  Importance\n",
            "0      MedInc    0.526011\n",
            "5    AveOccup    0.138220\n",
            "7   Longitude    0.086124\n",
            "6    Latitude    0.086086\n",
            "1    HouseAge    0.054654\n",
            "2    AveRooms    0.047188\n",
            "4  Population    0.031722\n",
            "3   AveBedrms    0.029995\n"
          ]
        }
      ]
    },
    {
      "cell_type": "markdown",
      "source": [
        "**30. Train an ensemble model using both Bagging and Random Forest and compare accuracy.**"
      ],
      "metadata": {
        "id": "1kbY0HPeYU30"
      }
    },
    {
      "cell_type": "code",
      "source": [
        "from sklearn.datasets import load_breast_cancer\n",
        "from sklearn.ensemble import BaggingClassifier, RandomForestClassifier\n",
        "from sklearn.tree import DecisionTreeClassifier\n",
        "from sklearn.model_selection import train_test_split\n",
        "from sklearn.metrics import accuracy_score\n",
        "\n",
        "data = load_breast_cancer()\n",
        "X, y = data.data, data.target\n",
        "\n",
        "X_train, X_test, y_train, y_test = train_test_split(X, y, test_size=0.3, random_state=42)\n",
        "\n",
        "bagging = BaggingClassifier(estimator=DecisionTreeClassifier(random_state=42),\n",
        "                            n_estimators=100, random_state=42)\n",
        "bagging.fit(X_train, y_train)\n",
        "y_pred_bagging = bagging.predict(X_test)\n",
        "accuracy_bagging = accuracy_score(y_test, y_pred_bagging)\n",
        "\n",
        "rf = RandomForestClassifier(n_estimators=100, random_state=42)\n",
        "rf.fit(X_train, y_train)\n",
        "y_pred_rf = rf.predict(X_test)\n",
        "accuracy_rf = accuracy_score(y_test, y_pred_rf)\n",
        "\n",
        "print(f\"Bagging Classifier Accuracy: {accuracy_bagging:.4f}\")\n",
        "print(f\"Random Forest Classifier Accuracy: {accuracy_rf:.4f}\")"
      ],
      "metadata": {
        "colab": {
          "base_uri": "https://localhost:8080/"
        },
        "id": "pDGviW3ZYYxV",
        "outputId": "e54cf525-eac1-4334-d78c-6d5ad7ee7e63"
      },
      "execution_count": 20,
      "outputs": [
        {
          "output_type": "stream",
          "name": "stdout",
          "text": [
            "Bagging Classifier Accuracy: 0.9591\n",
            "Random Forest Classifier Accuracy: 0.9708\n"
          ]
        }
      ]
    },
    {
      "cell_type": "markdown",
      "source": [
        "**31.Train a Random Forest Classifier and tune hyperparameters using GridSearchCV.**"
      ],
      "metadata": {
        "id": "ioZHSXj3ZZhA"
      }
    },
    {
      "cell_type": "code",
      "source": [
        "from sklearn.datasets import load_breast_cancer\n",
        "from sklearn.ensemble import RandomForestClassifier\n",
        "from sklearn.model_selection import train_test_split, GridSearchCV\n",
        "from sklearn.metrics import accuracy_score\n",
        "data = load_breast_cancer()\n",
        "X, y = data.data, data.target\n",
        "\n",
        "X_train, X_test, y_train, y_test = train_test_split(X, y, test_size=0.3, random_state=42)\n",
        "\n",
        "rf = RandomForestClassifier(random_state=42)\n",
        "\n",
        "param_grid = {\n",
        "    'n_estimators': [50, 100, 200],\n",
        "    'max_depth': [None, 5, 10],\n",
        "    'min_samples_split': [2, 5, 10]\n",
        "}\n",
        "\n",
        "grid_search = GridSearchCV(estimator=rf, param_grid=param_grid,\n",
        "                           cv=5, n_jobs=-1, verbose=1)\n",
        "\n",
        "grid_search.fit(X_train, y_train)\n",
        "\n",
        "print(\"Best hyperparameters:\", grid_search.best_params_)\n",
        "\n",
        "best_rf = grid_search.best_estimator_\n",
        "y_pred = best_rf.predict(X_test)\n",
        "\n",
        "accuracy = accuracy_score(y_test, y_pred)\n",
        "print(f\"Test Accuracy with best hyperparameters: {accuracy:.4f}\")\n"
      ],
      "metadata": {
        "colab": {
          "base_uri": "https://localhost:8080/"
        },
        "id": "i0BlkEDBZdnL",
        "outputId": "cb9a6e8f-e15d-4cf8-e718-4d9527a4cb92"
      },
      "execution_count": 21,
      "outputs": [
        {
          "output_type": "stream",
          "name": "stdout",
          "text": [
            "Fitting 5 folds for each of 27 candidates, totalling 135 fits\n",
            "Best hyperparameters: {'max_depth': None, 'min_samples_split': 10, 'n_estimators': 100}\n",
            "Test Accuracy with best hyperparameters: 0.9649\n"
          ]
        }
      ]
    },
    {
      "cell_type": "markdown",
      "source": [
        "**32. Train a Bagging Regressor with different numbers of base estimators and compare performance.**"
      ],
      "metadata": {
        "id": "JWU722TQZhBV"
      }
    },
    {
      "cell_type": "code",
      "source": [
        "from sklearn.datasets import fetch_california_housing\n",
        "from sklearn.ensemble import BaggingRegressor\n",
        "from sklearn.tree import DecisionTreeRegressor\n",
        "from sklearn.model_selection import train_test_split\n",
        "from sklearn.metrics import mean_squared_error\n",
        "\n",
        "data = fetch_california_housing()\n",
        "X, y = data.data, data.target\n",
        "\n",
        "X_train, X_test, y_train, y_test = train_test_split(X, y, test_size=0.3, random_state=42)\n",
        "\n",
        "n_estimators_list = [5, 10, 50, 100]\n",
        "\n",
        "print(\"Bagging Regressor Performance with Different Number of Base Estimators:\")\n",
        "for n_estimators in n_estimators_list:\n",
        "    bagging = BaggingRegressor(estimator=DecisionTreeRegressor(random_state=42),\n",
        "                               n_estimators=n_estimators, random_state=42)\n",
        "\n",
        "    bagging.fit(X_train, y_train)\n",
        "\n",
        "    y_pred = bagging.predict(X_test)\n",
        "\n",
        "    mse = mean_squared_error(y_test, y_pred)\n",
        "    print(f\" - Number of estimators: {n_estimators} | MSE: {mse:.4f}\")"
      ],
      "metadata": {
        "colab": {
          "base_uri": "https://localhost:8080/"
        },
        "id": "fZJ6fy2hZjOl",
        "outputId": "1652fe5e-c04f-4ca2-f325-01bf64528d68"
      },
      "execution_count": 23,
      "outputs": [
        {
          "output_type": "stream",
          "name": "stdout",
          "text": [
            "Bagging Regressor Performance with Different Number of Base Estimators:\n",
            " - Number of estimators: 5 | MSE: 0.3168\n",
            " - Number of estimators: 10 | MSE: 0.2862\n",
            " - Number of estimators: 50 | MSE: 0.2579\n",
            " - Number of estimators: 100 | MSE: 0.2568\n"
          ]
        }
      ]
    },
    {
      "cell_type": "markdown",
      "source": [
        "**33. Train a Random Forest Classifier and analyze misclassified samples.**"
      ],
      "metadata": {
        "id": "xGyTXtaeZuJj"
      }
    },
    {
      "cell_type": "code",
      "source": [
        "from sklearn.datasets import load_breast_cancer\n",
        "from sklearn.ensemble import RandomForestClassifier\n",
        "from sklearn.model_selection import train_test_split\n",
        "from sklearn.metrics import accuracy_score\n",
        "import numpy as np\n",
        "\n",
        "\n",
        "data = load_breast_cancer()\n",
        "X, y = data.data, data.target\n",
        "feature_names = data.feature_names\n",
        "\n",
        "X_train, X_test, y_train, y_test = train_test_split(X, y, test_size=0.3, random_state=42)\n",
        "\n",
        "rf = RandomForestClassifier(n_estimators=100, random_state=42)\n",
        "rf.fit(X_train, y_train)\n",
        "\n",
        "y_pred = rf.predict(X_test)\n",
        "\n",
        "accuracy = accuracy_score(y_test, y_pred)\n",
        "print(f\"Accuracy: {accuracy:.4f}\")\n",
        "\n",
        "misclassified_indices = np.where(y_pred != y_test)[0]\n",
        "\n",
        "print(f\"\\nNumber of misclassified samples: {len(misclassified_indices)}\")\n",
        "\n",
        "for idx in misclassified_indices[:5]:\n",
        "    print(f\"\\nSample index in test set: {idx}\")\n",
        "    print(f\"True label: {y_test[idx]}, Predicted label: {y_pred[idx]}\")\n",
        "    print(\"Feature values:\")\n",
        "    for feature, value in zip(feature_names, X_test[idx]):\n",
        "        print(f\"  {feature}: {value}\")\n"
      ],
      "metadata": {
        "colab": {
          "base_uri": "https://localhost:8080/"
        },
        "id": "qad8un8BZyex",
        "outputId": "93cff26b-e51f-48d2-e5f9-abbbf4d703f5"
      },
      "execution_count": 24,
      "outputs": [
        {
          "output_type": "stream",
          "name": "stdout",
          "text": [
            "Accuracy: 0.9708\n",
            "\n",
            "Number of misclassified samples: 5\n",
            "\n",
            "Sample index in test set: 8\n",
            "True label: 1, Predicted label: 0\n",
            "Feature values:\n",
            "  mean radius: 13.34\n",
            "  mean texture: 15.86\n",
            "  mean perimeter: 86.49\n",
            "  mean area: 520.0\n",
            "  mean smoothness: 0.1078\n",
            "  mean compactness: 0.1535\n",
            "  mean concavity: 0.1169\n",
            "  mean concave points: 0.06987\n",
            "  mean symmetry: 0.1942\n",
            "  mean fractal dimension: 0.06902\n",
            "  radius error: 0.286\n",
            "  texture error: 1.016\n",
            "  perimeter error: 1.535\n",
            "  area error: 12.96\n",
            "  smoothness error: 0.006794\n",
            "  compactness error: 0.03575\n",
            "  concavity error: 0.0398\n",
            "  concave points error: 0.01383\n",
            "  symmetry error: 0.02134\n",
            "  fractal dimension error: 0.004603\n",
            "  worst radius: 15.53\n",
            "  worst texture: 23.19\n",
            "  worst perimeter: 96.66\n",
            "  worst area: 614.9\n",
            "  worst smoothness: 0.1536\n",
            "  worst compactness: 0.4791\n",
            "  worst concavity: 0.4858\n",
            "  worst concave points: 0.1708\n",
            "  worst symmetry: 0.3527\n",
            "  worst fractal dimension: 0.1016\n",
            "\n",
            "Sample index in test set: 20\n",
            "True label: 0, Predicted label: 1\n",
            "Feature values:\n",
            "  mean radius: 13.8\n",
            "  mean texture: 15.79\n",
            "  mean perimeter: 90.43\n",
            "  mean area: 584.1\n",
            "  mean smoothness: 0.1007\n",
            "  mean compactness: 0.128\n",
            "  mean concavity: 0.07789\n",
            "  mean concave points: 0.05069\n",
            "  mean symmetry: 0.1662\n",
            "  mean fractal dimension: 0.06566\n",
            "  radius error: 0.2787\n",
            "  texture error: 0.6205\n",
            "  perimeter error: 1.957\n",
            "  area error: 23.35\n",
            "  smoothness error: 0.004717\n",
            "  compactness error: 0.02065\n",
            "  concavity error: 0.01759\n",
            "  concave points error: 0.009206\n",
            "  symmetry error: 0.0122\n",
            "  fractal dimension error: 0.00313\n",
            "  worst radius: 16.57\n",
            "  worst texture: 20.86\n",
            "  worst perimeter: 110.3\n",
            "  worst area: 812.4\n",
            "  worst smoothness: 0.1411\n",
            "  worst compactness: 0.3542\n",
            "  worst concavity: 0.2779\n",
            "  worst concave points: 0.1383\n",
            "  worst symmetry: 0.2589\n",
            "  worst fractal dimension: 0.103\n",
            "\n",
            "Sample index in test set: 77\n",
            "True label: 0, Predicted label: 1\n",
            "Feature values:\n",
            "  mean radius: 13.96\n",
            "  mean texture: 17.05\n",
            "  mean perimeter: 91.43\n",
            "  mean area: 602.4\n",
            "  mean smoothness: 0.1096\n",
            "  mean compactness: 0.1279\n",
            "  mean concavity: 0.09789\n",
            "  mean concave points: 0.05246\n",
            "  mean symmetry: 0.1908\n",
            "  mean fractal dimension: 0.0613\n",
            "  radius error: 0.425\n",
            "  texture error: 0.8098\n",
            "  perimeter error: 2.563\n",
            "  area error: 35.74\n",
            "  smoothness error: 0.006351\n",
            "  compactness error: 0.02679\n",
            "  concavity error: 0.03119\n",
            "  concave points error: 0.01342\n",
            "  symmetry error: 0.02062\n",
            "  fractal dimension error: 0.002695\n",
            "  worst radius: 16.39\n",
            "  worst texture: 22.07\n",
            "  worst perimeter: 108.1\n",
            "  worst area: 826.0\n",
            "  worst smoothness: 0.1512\n",
            "  worst compactness: 0.3262\n",
            "  worst concavity: 0.3209\n",
            "  worst concave points: 0.1374\n",
            "  worst symmetry: 0.3068\n",
            "  worst fractal dimension: 0.07957\n",
            "\n",
            "Sample index in test set: 82\n",
            "True label: 0, Predicted label: 1\n",
            "Feature values:\n",
            "  mean radius: 14.48\n",
            "  mean texture: 21.46\n",
            "  mean perimeter: 94.25\n",
            "  mean area: 648.2\n",
            "  mean smoothness: 0.09444\n",
            "  mean compactness: 0.09947\n",
            "  mean concavity: 0.1204\n",
            "  mean concave points: 0.04938\n",
            "  mean symmetry: 0.2075\n",
            "  mean fractal dimension: 0.05636\n",
            "  radius error: 0.4204\n",
            "  texture error: 2.22\n",
            "  perimeter error: 3.301\n",
            "  area error: 38.87\n",
            "  smoothness error: 0.009369\n",
            "  compactness error: 0.02983\n",
            "  concavity error: 0.05371\n",
            "  concave points error: 0.01761\n",
            "  symmetry error: 0.02418\n",
            "  fractal dimension error: 0.003249\n",
            "  worst radius: 16.21\n",
            "  worst texture: 29.25\n",
            "  worst perimeter: 108.4\n",
            "  worst area: 808.9\n",
            "  worst smoothness: 0.1306\n",
            "  worst compactness: 0.1976\n",
            "  worst concavity: 0.3349\n",
            "  worst concave points: 0.1225\n",
            "  worst symmetry: 0.302\n",
            "  worst fractal dimension: 0.06846\n",
            "\n",
            "Sample index in test set: 164\n",
            "True label: 0, Predicted label: 1\n",
            "Feature values:\n",
            "  mean radius: 15.13\n",
            "  mean texture: 29.81\n",
            "  mean perimeter: 96.71\n",
            "  mean area: 719.5\n",
            "  mean smoothness: 0.0832\n",
            "  mean compactness: 0.04605\n",
            "  mean concavity: 0.04686\n",
            "  mean concave points: 0.02739\n",
            "  mean symmetry: 0.1852\n",
            "  mean fractal dimension: 0.05294\n",
            "  radius error: 0.4681\n",
            "  texture error: 1.627\n",
            "  perimeter error: 3.043\n",
            "  area error: 45.38\n",
            "  smoothness error: 0.006831\n",
            "  compactness error: 0.01427\n",
            "  concavity error: 0.02489\n",
            "  concave points error: 0.009087\n",
            "  symmetry error: 0.03151\n",
            "  fractal dimension error: 0.00175\n",
            "  worst radius: 17.26\n",
            "  worst texture: 36.91\n",
            "  worst perimeter: 110.1\n",
            "  worst area: 931.4\n",
            "  worst smoothness: 0.1148\n",
            "  worst compactness: 0.09866\n",
            "  worst concavity: 0.1547\n",
            "  worst concave points: 0.06575\n",
            "  worst symmetry: 0.3233\n",
            "  worst fractal dimension: 0.06165\n"
          ]
        }
      ]
    },
    {
      "cell_type": "markdown",
      "source": [
        "**34. Train a Bagging Classifier and compare its performance with a single Decision Tree Classifier.**"
      ],
      "metadata": {
        "id": "Y-vmAhpQaKQD"
      }
    },
    {
      "cell_type": "code",
      "source": [
        "from sklearn.datasets import load_breast_cancer\n",
        "from sklearn.ensemble import BaggingClassifier\n",
        "from sklearn.tree import DecisionTreeClassifier\n",
        "from sklearn.model_selection import train_test_split\n",
        "from sklearn.metrics import accuracy_score\n",
        "\n",
        "data = load_breast_cancer()\n",
        "X, y = data.data, data.target\n",
        "\n",
        "X_train, X_test, y_train, y_test = train_test_split(X, y, test_size=0.3, random_state=42)\n",
        "\n",
        "dt = DecisionTreeClassifier(random_state=42)\n",
        "dt.fit(X_train, y_train)\n",
        "y_pred_dt = dt.predict(X_test)\n",
        "accuracy_dt = accuracy_score(y_test, y_pred_dt)\n",
        "\n",
        "bagging = BaggingClassifier(estimator=DecisionTreeClassifier(random_state=42),\n",
        "                            n_estimators=100, random_state=42)\n",
        "bagging.fit(X_train, y_train)\n",
        "y_pred_bagging = bagging.predict(X_test)\n",
        "accuracy_bagging = accuracy_score(y_test, y_pred_bagging)\n",
        "\n",
        "print(f\"Decision Tree Accuracy: {accuracy_dt:.4f}\")\n",
        "print(f\"Bagging Classifier Accuracy: {accuracy_bagging:.4f}\")"
      ],
      "metadata": {
        "colab": {
          "base_uri": "https://localhost:8080/"
        },
        "id": "CvDLPXe-aNr4",
        "outputId": "cb7d265d-2076-4fa7-d668-886e6de0b1ed"
      },
      "execution_count": 26,
      "outputs": [
        {
          "output_type": "stream",
          "name": "stdout",
          "text": [
            "Decision Tree Accuracy: 0.9415\n",
            "Bagging Classifier Accuracy: 0.9591\n"
          ]
        }
      ]
    },
    {
      "cell_type": "markdown",
      "source": [
        "**35. Train a Random Forest Classifier and visualize the confusion matrix.**"
      ],
      "metadata": {
        "id": "LofvA6GOaWNI"
      }
    },
    {
      "cell_type": "code",
      "source": [
        "import matplotlib.pyplot as plt\n",
        "import seaborn as sns\n",
        "from sklearn.datasets import load_breast_cancer\n",
        "from sklearn.ensemble import RandomForestClassifier\n",
        "from sklearn.model_selection import train_test_split\n",
        "from sklearn.metrics import confusion_matrix, accuracy_score\n",
        "\n",
        "data = load_breast_cancer()\n",
        "X, y = data.data, data.target\n",
        "\n",
        "X_train, X_test, y_train, y_test = train_test_split(X, y, test_size=0.3, random_state=42)\n",
        "rf = RandomForestClassifier(n_estimators=100, random_state=42)\n",
        "rf.fit(X_train, y_train)\n",
        "\n",
        "y_pred = rf.predict(X_test)\n",
        "\n",
        "accuracy = accuracy_score(y_test, y_pred)\n",
        "print(f\"Accuracy: {accuracy:.4f}\")\n",
        "\n",
        "cm = confusion_matrix(y_test, y_pred)\n",
        "\n",
        "plt.figure(figsize=(6,4))\n",
        "sns.heatmap(cm, annot=True, fmt='d', cmap='Blues', xticklabels=data.target_names, yticklabels=data.target_names)\n",
        "plt.xlabel('Predicted Label')\n",
        "plt.ylabel('True Label')\n",
        "plt.title('Confusion Matrix - Random Forest Classifier')\n",
        "plt.show()\n"
      ],
      "metadata": {
        "colab": {
          "base_uri": "https://localhost:8080/",
          "height": 428
        },
        "id": "VQV2o-b8aYnC",
        "outputId": "9c7f644c-bf6b-490d-cd66-d0492ea21718"
      },
      "execution_count": 27,
      "outputs": [
        {
          "output_type": "stream",
          "name": "stdout",
          "text": [
            "Accuracy: 0.9708\n"
          ]
        },
        {
          "output_type": "display_data",
          "data": {
            "text/plain": [
              "<Figure size 600x400 with 2 Axes>"
            ],
            "image/png": "[encoded data removed]"
          },
          "metadata": {}
        }
      ]
    },
    {
      "cell_type": "markdown",
      "source": [
        "**36. Train a Stacking Classifier using Decision Trees, SVM, and Logistic Regression, and compare accuracy.**"
      ],
      "metadata": {
        "id": "9jkxmBUlaio4"
      }
    },
    {
      "cell_type": "code",
      "source": [
        "from sklearn.datasets import load_breast_cancer\n",
        "from sklearn.tree import DecisionTreeClassifier\n",
        "from sklearn.svm import SVC\n",
        "from sklearn.linear_model import LogisticRegression\n",
        "from sklearn.ensemble import StackingClassifier\n",
        "from sklearn.model_selection import train_test_split\n",
        "from sklearn.metrics import accuracy_score\n",
        "\n",
        "data = load_breast_cancer()\n",
        "X, y = data.data, data.target\n",
        "\n",
        "X_train, X_test, y_train, y_test = train_test_split(X, y, test_size=0.3, random_state=42)\n",
        "\n",
        "dt = DecisionTreeClassifier(random_state=42)\n",
        "svm = SVC(probability=True, random_state=42)\n",
        "lr = LogisticRegression(max_iter=1000, random_state=42)\n",
        "\n",
        "stack = StackingClassifier(\n",
        "    estimators=[('dt', dt), ('svm', svm), ('lr', lr)],\n",
        "    final_estimator=LogisticRegression(),\n",
        "    passthrough=False,\n",
        "    cv=5,\n",
        "    n_jobs=-1\n",
        ")\n",
        "\n",
        "dt.fit(X_train, y_train)\n",
        "svm.fit(X_train, y_train)\n",
        "lr.fit(X_train, y_train)\n",
        "\n",
        "stack.fit(X_train, y_train)\n",
        "\n",
        "models = {'Decision Tree': dt, 'SVM': svm, 'Logistic Regression': lr, 'Stacking Classifier': stack}\n",
        "\n",
        "for name, model in models.items():\n",
        "    y_pred = model.predict(X_test)\n",
        "    accuracy = accuracy_score(y_test, y_pred)\n",
        "    print(f\"{name} Accuracy: {accuracy:.4f}\")\n"
      ],
      "metadata": {
        "colab": {
          "base_uri": "https://localhost:8080/"
        },
        "id": "ssDL520VakuI",
        "outputId": "11eacee9-0399-4052-fcfa-aef7cb8eeba3"
      },
      "execution_count": 28,
      "outputs": [
        {
          "output_type": "stream",
          "name": "stderr",
          "text": [
            "/usr/local/lib/python3.11/dist-packages/sklearn/linear_model/_logistic.py:465: ConvergenceWarning: lbfgs failed to converge (status=1):\n",
            "STOP: TOTAL NO. OF ITERATIONS REACHED LIMIT.\n",
            "\n",
            "Increase the number of iterations (max_iter) or scale the data as shown in:\n",
            "    https://scikit-learn.org/stable/modules/preprocessing.html\n",
            "Please also refer to the documentation for alternative solver options:\n",
            "    https://scikit-learn.org/stable/modules/linear_model.html#logistic-regression\n",
            "  n_iter_i = _check_optimize_result(\n"
          ]
        },
        {
          "output_type": "stream",
          "name": "stdout",
          "text": [
            "Decision Tree Accuracy: 0.9415\n",
            "SVM Accuracy: 0.9357\n",
            "Logistic Regression Accuracy: 0.9708\n",
            "Stacking Classifier Accuracy: 0.9708\n"
          ]
        }
      ]
    },
    {
      "cell_type": "markdown",
      "source": [
        "**37. Train a Random Forest Classifier and print the top 5 most important features.**"
      ],
      "metadata": {
        "id": "0ec8M43IaoQI"
      }
    },
    {
      "cell_type": "code",
      "source": [
        "from sklearn.datasets import load_breast_cancer\n",
        "from sklearn.ensemble import RandomForestClassifier\n",
        "from sklearn.model_selection import train_test_split\n",
        "import numpy as np\n",
        "\n",
        "data = load_breast_cancer()\n",
        "X, y = data.data, data.target\n",
        "feature_names = data.feature_names\n",
        "\n",
        "X_train, X_test, y_train, y_test = train_test_split(X, y, test_size=0.3, random_state=42)\n",
        "\n",
        "rf = RandomForestClassifier(n_estimators=100, random_state=42)\n",
        "rf.fit(X_train, y_train)\n",
        "\n",
        "importances = rf.feature_importances_\n",
        "\n",
        "top_indices = np.argsort(importances)[::-1][:5]\n",
        "\n",
        "print(\"Top 5 Important Features:\")\n",
        "for i in top_indices:\n",
        "    print(f\"{feature_names[i]}: {importances[i]:.4f}\")\n"
      ],
      "metadata": {
        "colab": {
          "base_uri": "https://localhost:8080/"
        },
        "id": "TJtDzxBKaqmz",
        "outputId": "e1a7884f-5227-43fd-a45b-d12d87a570ed"
      },
      "execution_count": 29,
      "outputs": [
        {
          "output_type": "stream",
          "name": "stdout",
          "text": [
            "Top 5 Important Features:\n",
            "mean concave points: 0.1419\n",
            "worst concave points: 0.1271\n",
            "worst area: 0.1182\n",
            "mean concavity: 0.0806\n",
            "worst radius: 0.0780\n"
          ]
        }
      ]
    },
    {
      "cell_type": "markdown",
      "source": [
        "**38. Train a Bagging Classifier and evaluate performance using Precision, Recall, and F1-score.**"
      ],
      "metadata": {
        "id": "62T1iFMAa2SA"
      }
    },
    {
      "cell_type": "code",
      "source": [
        "from sklearn.datasets import load_breast_cancer\n",
        "from sklearn.ensemble import BaggingClassifier\n",
        "from sklearn.tree import DecisionTreeClassifier\n",
        "from sklearn.model_selection import train_test_split\n",
        "from sklearn.metrics import precision_score, recall_score, f1_score\n",
        "\n",
        "\n",
        "data = load_breast_cancer()\n",
        "X, y = data.data, data.target\n",
        "\n",
        "X_train, X_test, y_train, y_test = train_test_split(X, y, test_size=0.3, random_state=42)\n",
        "\n",
        "bagging = BaggingClassifier(estimator=DecisionTreeClassifier(random_state=42),\n",
        "                            n_estimators=100, random_state=42)\n",
        "bagging.fit(X_train, y_train)\n",
        "\n",
        "y_pred = bagging.predict(X_test)\n",
        "\n",
        "precision = precision_score(y_test, y_pred)\n",
        "recall = recall_score(y_test, y_pred)\n",
        "f1 = f1_score(y_test, y_pred)\n",
        "\n",
        "print(f\"Precision: {precision:.4f}\")\n",
        "print(f\"Recall:    {recall:.4f}\")\n",
        "print(f\"F1-Score:  {f1:.4f}\")"
      ],
      "metadata": {
        "colab": {
          "base_uri": "https://localhost:8080/"
        },
        "id": "j75h1jEea6Jf",
        "outputId": "9ff7c853-6d40-4b30-f295-34b20d66c451"
      },
      "execution_count": 31,
      "outputs": [
        {
          "output_type": "stream",
          "name": "stdout",
          "text": [
            "Precision: 0.9633\n",
            "Recall:    0.9722\n",
            "F1-Score:  0.9677\n"
          ]
        }
      ]
    },
    {
      "cell_type": "markdown",
      "source": [
        "**39. Train a Random Forest Classifier and analyze the effect of max_depth on accuracy.**"
      ],
      "metadata": {
        "id": "bSprB3H6a7fS"
      }
    },
    {
      "cell_type": "code",
      "source": [
        "from sklearn.datasets import load_breast_cancer\n",
        "from sklearn.ensemble import RandomForestClassifier\n",
        "from sklearn.model_selection import train_test_split\n",
        "from sklearn.metrics import accuracy_score\n",
        "import matplotlib.pyplot as plt\n",
        "\n",
        "data = load_breast_cancer()\n",
        "X, y = data.data, data.target\n",
        "\n",
        "X_train, X_test, y_train, y_test = train_test_split(X, y, test_size=0.3, random_state=42)\n",
        "\n",
        "max_depth_values = [1, 2, 3, 5, 10, 15, None]\n",
        "accuracies = []\n",
        "\n",
        "for depth in max_depth_values:\n",
        "    rf = RandomForestClassifier(max_depth=depth, n_estimators=100, random_state=42)\n",
        "    rf.fit(X_train, y_train)\n",
        "    y_pred = rf.predict(X_test)\n",
        "    acc = accuracy_score(y_test, y_pred)\n",
        "    accuracies.append(acc)\n",
        "    print(f\"max_depth={depth}: Accuracy = {acc:.4f}\")\n",
        "\n",
        "# Plot accuracy vs max_depth\n",
        "plt.figure(figsize=(8,5))\n",
        "labels = ['1', '2', '3', '5', '10', '15', 'None']\n",
        "plt.plot(labels, accuracies, marker='o')\n",
        "plt.xlabel('max_depth')\n",
        "plt.ylabel('Accuracy')\n",
        "plt.title('Effect of max_depth on Random Forest Accuracy')\n",
        "plt.grid(True)\n",
        "plt.show()\n"
      ],
      "metadata": {
        "colab": {
          "base_uri": "https://localhost:8080/",
          "height": 614
        },
        "id": "ZHFlOhCua-OZ",
        "outputId": "906172e4-2d57-416d-f813-8c56e1d8b32b"
      },
      "execution_count": 32,
      "outputs": [
        {
          "output_type": "stream",
          "name": "stdout",
          "text": [
            "max_depth=1: Accuracy = 0.9591\n",
            "max_depth=2: Accuracy = 0.9532\n",
            "max_depth=3: Accuracy = 0.9708\n",
            "max_depth=5: Accuracy = 0.9649\n",
            "max_depth=10: Accuracy = 0.9708\n",
            "max_depth=15: Accuracy = 0.9708\n",
            "max_depth=None: Accuracy = 0.9708\n"
          ]
        },
        {
          "output_type": "display_data",
          "data": {
            "text/plain": [
              "<Figure size 800x500 with 1 Axes>"
            ],
            "image/png": "[encoded data removed]"
          },
          "metadata": {}
        }
      ]
    },
    {
      "cell_type": "markdown",
      "source": [
        "**40.Train a Bagging Regressor using different base estimators (DecisionTree and KNeighbors) and compare performance.**"
      ],
      "metadata": {
        "id": "v1qXuvxPbQNN"
      }
    },
    {
      "cell_type": "code",
      "source": [
        "from sklearn.datasets import fetch_california_housing\n",
        "from sklearn.ensemble import BaggingRegressor\n",
        "from sklearn.tree import DecisionTreeRegressor\n",
        "from sklearn.neighbors import KNeighborsRegressor\n",
        "from sklearn.model_selection import train_test_split\n",
        "from sklearn.metrics import mean_squared_error\n",
        "\n",
        "\n",
        "data = fetch_california_housing()\n",
        "X, y = data.data, data.target\n",
        "\n",
        "X_train, X_test, y_train, y_test = train_test_split(X, y, test_size=0.3, random_state=42)\n",
        "\n",
        "bagging_dt = BaggingRegressor(estimator=DecisionTreeRegressor(random_state=42),\n",
        "                             n_estimators=50, random_state=42)\n",
        "bagging_dt.fit(X_train, y_train)\n",
        "y_pred_dt = bagging_dt.predict(X_test)\n",
        "mse_dt = mean_squared_error(y_test, y_pred_dt)\n",
        "\n",
        "bagging_knn = BaggingRegressor(estimator=KNeighborsRegressor(),\n",
        "                              n_estimators=50, random_state=42)\n",
        "bagging_knn.fit(X_train, y_train)\n",
        "y_pred_knn = bagging_knn.predict(X_test)\n",
        "mse_knn = mean_squared_error(y_test, y_pred_knn)\n",
        "\n",
        "print(f\"Bagging with Decision Tree Regressor MSE: {mse_dt:.4f}\")\n",
        "print(f\"Bagging with KNeighbors Regressor MSE: {mse_knn:.4f}\")"
      ],
      "metadata": {
        "colab": {
          "base_uri": "https://localhost:8080/"
        },
        "id": "1FvAPd9zbaSq",
        "outputId": "ab556faf-4cbb-4168-c146-7091d2fcc70c"
      },
      "execution_count": 34,
      "outputs": [
        {
          "output_type": "stream",
          "name": "stdout",
          "text": [
            "Bagging with Decision Tree Regressor MSE: 0.2579\n",
            "Bagging with KNeighbors Regressor MSE: 1.1021\n"
          ]
        }
      ]
    },
    {
      "cell_type": "markdown",
      "source": [
        "**41. Train a Random Forest Classifier and evaluate its performance using ROC-AUC Score.**"
      ],
      "metadata": {
        "id": "EIMbwLoLbqpL"
      }
    },
    {
      "cell_type": "code",
      "source": [
        "from sklearn.datasets import load_breast_cancer\n",
        "from sklearn.ensemble import RandomForestClassifier\n",
        "from sklearn.model_selection import train_test_split\n",
        "from sklearn.metrics import roc_auc_score, roc_curve\n",
        "import matplotlib.pyplot as plt\n",
        "\n",
        "data = load_breast_cancer()\n",
        "X, y = data.data, data.target\n",
        "\n",
        "X_train, X_test, y_train, y_test = train_test_split(X, y, test_size=0.3, random_state=42)\n",
        "\n",
        "rf = RandomForestClassifier(n_estimators=100, random_state=42)\n",
        "rf.fit(X_train, y_train)\n",
        "\n",
        "y_proba = rf.predict_proba(X_test)[:, 1]\n",
        "\n",
        "roc_auc = roc_auc_score(y_test, y_proba)\n",
        "print(f\"ROC-AUC Score: {roc_auc:.4f}\")\n",
        "\n",
        "fpr, tpr, thresholds = roc_curve(y_test, y_proba)\n",
        "plt.figure(figsize=(8, 5))\n",
        "plt.plot(fpr, tpr, label=f'Random Forest (AUC = {roc_auc:.2f})')\n",
        "plt.plot([0, 1], [0, 1], 'k--')\n",
        "plt.xlabel('False Positive Rate')\n",
        "plt.ylabel('True Positive Rate')\n",
        "plt.title('ROC Curve - Random Forest Classifier')\n",
        "plt.legend(loc='lower right')\n",
        "plt.grid(True)\n",
        "plt.show()\n",
        "\n"
      ],
      "metadata": {
        "colab": {
          "base_uri": "https://localhost:8080/",
          "height": 505
        },
        "id": "6U-_-wgtb1Tx",
        "outputId": "61476309-4e35-4844-bd6d-90fe9d81f820"
      },
      "execution_count": 35,
      "outputs": [
        {
          "output_type": "stream",
          "name": "stdout",
          "text": [
            "ROC-AUC Score: 0.9968\n"
          ]
        },
        {
          "output_type": "display_data",
          "data": {
            "text/plain": [
              "<Figure size 800x500 with 1 Axes>"
            ],
            "image/png": "[encoded data removed]"
          },
          "metadata": {}
        }
      ]
    },
    {
      "cell_type": "markdown",
      "source": [
        "**42. Train a Bagging Classifier and evaluate its performance using cross-validation.**"
      ],
      "metadata": {
        "id": "gW7P5W6acJkT"
      }
    },
    {
      "cell_type": "code",
      "source": [
        "from sklearn.datasets import load_breast_cancer\n",
        "from sklearn.ensemble import BaggingClassifier\n",
        "from sklearn.tree import DecisionTreeClassifier\n",
        "from sklearn.model_selection import cross_val_score\n",
        "import numpy as np\n",
        "\n",
        "data = load_breast_cancer()\n",
        "X, y = data.data, data.target\n",
        "\n",
        "bagging_clf = BaggingClassifier(\n",
        "    estimator=DecisionTreeClassifier(random_state=42),\n",
        "    n_estimators=50,\n",
        "    random_state=42\n",
        ")\n",
        "\n",
        "cv_scores = cross_val_score(bagging_clf, X, y, cv=5, scoring='accuracy')\n",
        "\n",
        "print(\"Cross-Validation Scores:\", np.round(cv_scores, 4))\n",
        "print(f\"Mean Accuracy: {cv_scores.mean():.4f}\")\n",
        "print(f\"Standard Deviation: {cv_scores.std():.4f}\")"
      ],
      "metadata": {
        "colab": {
          "base_uri": "https://localhost:8080/"
        },
        "id": "j3m0zpWocPMA",
        "outputId": "5d11f01a-16b9-4e52-ed0b-14124b05c99f"
      },
      "execution_count": 37,
      "outputs": [
        {
          "output_type": "stream",
          "name": "stdout",
          "text": [
            "Cross-Validation Scores: [0.9123 0.9211 0.9825 0.9561 1.    ]\n",
            "Mean Accuracy: 0.9544\n",
            "Standard Deviation: 0.0339\n"
          ]
        }
      ]
    },
    {
      "cell_type": "markdown",
      "source": [
        "**43. Train a Random Forest Classifier and plot the Precision-Recall curv.**"
      ],
      "metadata": {
        "id": "OZpU05G6clM0"
      }
    },
    {
      "cell_type": "code",
      "source": [
        "from sklearn.datasets import load_breast_cancer\n",
        "from sklearn.ensemble import RandomForestClassifier\n",
        "from sklearn.model_selection import train_test_split\n",
        "from sklearn.metrics import precision_recall_curve, average_precision_score\n",
        "import matplotlib.pyplot as plt\n",
        "\n",
        "data = load_breast_cancer()\n",
        "X, y = data.data, data.target\n",
        "\n",
        "X_train, X_test, y_train, y_test = train_test_split(X, y, test_size=0.3, random_state=42)\n",
        "\n",
        "rf = RandomForestClassifier(n_estimators=100, random_state=42)\n",
        "rf.fit(X_train, y_train)\n",
        "\n",
        "y_scores = rf.predict_proba(X_test)[:, 1]\n",
        "\n",
        "precision, recall, _ = precision_recall_curve(y_test, y_scores)\n",
        "avg_precision = average_precision_score(y_test, y_scores)\n",
        "plt.figure(figsize=(8, 5))\n",
        "plt.plot(recall, precision, label=f'AP = {avg_precision:.2f}')\n",
        "plt.xlabel('Recall')\n",
        "plt.ylabel('Precision')\n",
        "plt.title('Precision-Recall Curve - Random Forest Classifier')\n",
        "plt.legend()\n",
        "plt.grid(True)\n",
        "plt.show()\n"
      ],
      "metadata": {
        "colab": {
          "base_uri": "https://localhost:8080/",
          "height": 487
        },
        "id": "l8r7seCHcpCB",
        "outputId": "ffc0771c-037b-4d12-8908-e0f79c9d5522"
      },
      "execution_count": 38,
      "outputs": [
        {
          "output_type": "display_data",
          "data": {
            "text/plain": [
              "<Figure size 800x500 with 1 Axes>"
            ],
            "image/png": "[encoded data removed]"
          },
          "metadata": {}
        }
      ]
    },
    {
      "cell_type": "markdown",
      "source": [
        "**44. Train a Stacking Classifier with Random Forest and Logistic Regression and compare accuracy.**"
      ],
      "metadata": {
        "id": "4CMDTtaXc2DK"
      }
    },
    {
      "cell_type": "code",
      "source": [
        "from sklearn.datasets import make_classification\n",
        "from sklearn.model_selection import train_test_split\n",
        "from sklearn.ensemble import RandomForestClassifier, StackingClassifier\n",
        "from sklearn.linear_model import LogisticRegression\n",
        "from sklearn.metrics import accuracy_score\n",
        "\n",
        "X, y = make_classification(n_samples=1000, n_features=20, n_informative=15, random_state=42)\n",
        "\n",
        "X_train, X_test, y_train, y_test = train_test_split(X, y, test_size=0.3, random_state=42)\n",
        "\n",
        "random_forest = RandomForestClassifier(random_state=42)\n",
        "logistic_regression = LogisticRegression(random_state=42, max_iter=1000)\n",
        "\n",
        "random_forest.fit(X_train, y_train)\n",
        "rf_predictions = random_forest.predict(X_test)\n",
        "rf_accuracy = accuracy_score(y_test, rf_predictions)\n",
        "\n",
        "logistic_regression.fit(X_train, y_train)\n",
        "lr_predictions = logistic_regression.predict(X_test)\n",
        "lr_accuracy = accuracy_score(y_test, lr_predictions)\n",
        "\n",
        "stacking_clf = StackingClassifier(\n",
        "    estimators=[('rf', random_forest), ('lr', logistic_regression)],\n",
        "    final_estimator=LogisticRegression(random_state=42)\n",
        ")\n",
        "stacking_clf.fit(X_train, y_train)\n",
        "stacking_predictions = stacking_clf.predict(X_test)\n",
        "stacking_accuracy = accuracy_score(y_test, stacking_predictions)\n",
        "\n",
        "print(f\"Random Forest Accuracy: {rf_accuracy:.2f}\")\n",
        "print(f\"Logistic Regression Accuracy: {lr_accuracy:.2f}\")\n",
        "print(f\"Stacking Classifier Accuracy: {stacking_accuracy:.2f}\")\n",
        "\n"
      ],
      "metadata": {
        "colab": {
          "base_uri": "https://localhost:8080/"
        },
        "id": "J7KhnNWZdNv1",
        "outputId": "0cf1ea5b-abb4-4269-9504-8c9429ccf0c5"
      },
      "execution_count": 43,
      "outputs": [
        {
          "output_type": "stream",
          "name": "stdout",
          "text": [
            "Random Forest Accuracy: 0.89\n",
            "Logistic Regression Accuracy: 0.83\n",
            "Stacking Classifier Accuracy: 0.88\n"
          ]
        }
      ]
    },
    {
      "cell_type": "markdown",
      "source": [
        "**45. Train a Bagging Regressor with different levels of bootstrap samples and compare performance.**"
      ],
      "metadata": {
        "id": "_5QAfvpRdREH"
      }
    },
    {
      "cell_type": "code",
      "source": [
        "from sklearn.datasets import fetch_california_housing\n",
        "from sklearn.ensemble import BaggingRegressor\n",
        "from sklearn.tree import DecisionTreeRegressor\n",
        "from sklearn.model_selection import train_test_split\n",
        "from sklearn.metrics import mean_squared_error\n",
        "import matplotlib.pyplot as plt\n",
        "\n",
        "data = fetch_california_housing()\n",
        "X, y = data.data, data.target\n",
        "\n",
        "X_train, X_test, y_train, y_test = train_test_split(X, y, test_size=0.3, random_state=42)\n",
        "\n",
        "sample_sizes = [0.3, 0.5, 0.7, 1.0]\n",
        "mse_scores = []\n",
        "\n",
        "for sample in sample_sizes:\n",
        "    bagging = BaggingRegressor(\n",
        "        estimator=DecisionTreeRegressor(random_state=42),\n",
        "        max_samples=sample,\n",
        "        bootstrap=True,\n",
        "        random_state=42\n",
        "    )\n",
        "    bagging.fit(X_train, y_train)\n",
        "    y_pred = bagging.predict(X_test)\n",
        "    mse = mean_squared_error(y_test, y_pred)\n",
        "    mse_scores.append(mse)\n",
        "    print(f\"max_samples={sample}: MSE = {mse:.4f}\")\n",
        "\n",
        "plt.figure(figsize=(8, 5))\n",
        "plt.plot(sample_sizes, mse_scores, marker='o')\n",
        "plt.xlabel(\"Bootstrap Sample Size (max_samples)\")\n",
        "plt.ylabel(\"Mean Squared Error (MSE)\")\n",
        "plt.title(\"Effect of Bootstrap Sample Size on Bagging Regressor Performance\")\n",
        "plt.grid(True)\n",
        "plt.show()"
      ],
      "metadata": {
        "colab": {
          "base_uri": "https://localhost:8080/",
          "height": 560
        },
        "id": "ekE-JnmIdTPv",
        "outputId": "0bdfba1c-dba4-4b1a-964c-2977f5912eb2"
      },
      "execution_count": 42,
      "outputs": [
        {
          "output_type": "stream",
          "name": "stdout",
          "text": [
            "max_samples=0.3: MSE = 0.2816\n",
            "max_samples=0.5: MSE = 0.2633\n",
            "max_samples=0.7: MSE = 0.2621\n",
            "max_samples=1.0: MSE = 0.2579\n"
          ]
        },
        {
          "output_type": "display_data",
          "data": {
            "text/plain": [
              "<Figure size 800x500 with 1 Axes>"
            ],
            "image/png": "[encoded data removed]"
          },
          "metadata": {}
        }
      ]
    }
  ]
}